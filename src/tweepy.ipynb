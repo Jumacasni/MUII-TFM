{
  "nbformat": 4,
  "nbformat_minor": 0,
  "metadata": {
    "colab": {
      "name": "tweepy.ipynb",
      "provenance": [],
      "collapsed_sections": [],
      "toc_visible": true
    },
    "kernelspec": {
      "name": "python3",
      "display_name": "Python 3"
    }
  },
  "cells": [
    {
      "cell_type": "code",
      "metadata": {
        "id": "H75apXsj7dUC"
      },
      "source": [
        "import tweepy\n",
        "import json"
      ],
      "execution_count": null,
      "outputs": []
    },
    {
      "cell_type": "markdown",
      "metadata": {
        "id": "bjbpmm6d8qlw"
      },
      "source": [
        "# Autenticación"
      ]
    },
    {
      "cell_type": "code",
      "metadata": {
        "id": "T1hH0U6n-SW9"
      },
      "source": [
        "%cp drive/MyDrive/MUII-TFM/src/config.py ."
      ],
      "execution_count": 6,
      "outputs": []
    },
    {
      "cell_type": "code",
      "metadata": {
        "id": "dVZNrJ9q_rBS"
      },
      "source": [
        "%load config.py"
      ],
      "execution_count": null,
      "outputs": []
    },
    {
      "cell_type": "code",
      "metadata": {
        "id": "FyjUTO7LhvfV"
      },
      "source": [
        "import config\n",
        "\n",
        "api_key = config.api_key\n",
        "api_secret = config.api_secret\n",
        "access_token = config.access_token\n",
        "access_token_secret = config.token_secret\n",
        "\n",
        "auth = tweepy.OAuthHandler(api_key, api_secret)\n",
        "auth.set_access_token(access_token, access_token_secret)\n",
        "\n",
        "api = tweepy.API(auth, wait_on_rate_limit=True, wait_on_rate_limit_notify=True)"
      ],
      "execution_count": null,
      "outputs": []
    },
    {
      "cell_type": "markdown",
      "metadata": {
        "id": "e8lrPSfe9pZR"
      },
      "source": [
        "# Extracción de datos"
      ]
    },
    {
      "cell_type": "markdown",
      "metadata": {
        "id": "Lws_jRSV9FW6"
      },
      "source": [
        "Obtengo información sobre mi usuario"
      ]
    },
    {
      "cell_type": "code",
      "metadata": {
        "id": "sjg6iAzd8vaU"
      },
      "source": [
        "# My info\n",
        "data = api.me()\n",
        "print(json.dumps(data._json, indent=2))"
      ],
      "execution_count": null,
      "outputs": []
    },
    {
      "cell_type": "markdown",
      "metadata": {
        "id": "cbaA3nBO9Kjr"
      },
      "source": [
        "Obtengo información de otro usuario"
      ]
    },
    {
      "cell_type": "code",
      "metadata": {
        "id": "ldxjNp4Y8xtc"
      },
      "source": [
        "# User's info\n",
        "data_nike = api.get_user(\"nike\")\n",
        "print(json.dumps(data_nike._json, indent=2))"
      ],
      "execution_count": null,
      "outputs": []
    },
    {
      "cell_type": "markdown",
      "metadata": {
        "id": "PN6ijWMc9MSs"
      },
      "source": [
        "Obtengo los seguidores de un usuario (por defecto sólo salen 20)"
      ]
    },
    {
      "cell_type": "code",
      "metadata": {
        "id": "lbHcvae48zLg"
      },
      "source": [
        "# Getting followers from user\n",
        "followers = api.followers(screen_name=\"nike\")\n",
        "print(len(followers))"
      ],
      "execution_count": null,
      "outputs": []
    },
    {
      "cell_type": "markdown",
      "metadata": {
        "id": "q3FsLXQF9N_J"
      },
      "source": [
        "Obtengo 100 seguidores de un usuario"
      ]
    },
    {
      "cell_type": "code",
      "metadata": {
        "id": "j9kpDMCj807A"
      },
      "source": [
        "# Getting 100 followers\n",
        "for user in tweepy.Cursor(api.followers, screen_name=\"nike\").items(100):\n",
        "  print(json.dumps(user._json, indent=2))"
      ],
      "execution_count": null,
      "outputs": []
    },
    {
      "cell_type": "markdown",
      "metadata": {
        "id": "-OahznOw9T7N"
      },
      "source": [
        "Obtengo los seguidos de un usuario"
      ]
    },
    {
      "cell_type": "code",
      "metadata": {
        "id": "hKQptMJz822X"
      },
      "source": [
        "# Getting user's followees\n",
        "for user in tweepy.Cursor(api.friends, screen_name=\"nike\").items(100):\n",
        "  print(json.dumps(user._json, indent=2))"
      ],
      "execution_count": null,
      "outputs": []
    },
    {
      "cell_type": "markdown",
      "metadata": {
        "id": "DtNbHlju9buE"
      },
      "source": [
        "Obtengo el timeline de un usuario"
      ]
    },
    {
      "cell_type": "code",
      "metadata": {
        "id": "70XgVxpQ84gz"
      },
      "source": [
        "# User's timeline\n",
        "for tweet in tweepy.Cursor(api.user_timeline, screen_name=\"nike\", tweet_mode=\"extended\").items(1):\n",
        "  print(json.dumps(tweet._json, indent=2))"
      ],
      "execution_count": null,
      "outputs": []
    },
    {
      "cell_type": "markdown",
      "metadata": {
        "id": "gDUUVCFV9hd3"
      },
      "source": [
        "Busco tweets con un query"
      ]
    },
    {
      "cell_type": "code",
      "metadata": {
        "id": "GgzQXoOo86o0"
      },
      "source": [
        "# Searching tweets\n",
        "for tweet in tweepy.Cursor(api.search, q=\"twitter\", tweet_mode=\"extended\").items(10):\n",
        "  print(tweet._json[\"full_text\"])"
      ],
      "execution_count": null,
      "outputs": []
    }
  ]
}